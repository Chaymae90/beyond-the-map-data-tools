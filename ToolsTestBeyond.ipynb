{
  "nbformat": 4,
  "nbformat_minor": 0,
  "metadata": {
    "colab": {
      "provenance": [],
      "authorship_tag": "ABX9TyNgvXd2UcZ6sDsInyfDvvnh",
      "include_colab_link": true
    },
    "kernelspec": {
      "name": "python3",
      "display_name": "Python 3"
    },
    "language_info": {
      "name": "python"
    }
  },
  "cells": [
    {
      "cell_type": "markdown",
      "metadata": {
        "id": "view-in-github",
        "colab_type": "text"
      },
      "source": [
        "<a href=\"https://colab.research.google.com/github/Chaymae90/beyond-the-map-data-tools/blob/main/ToolsTestBeyond.ipynb\" target=\"_parent\"><img src=\"https://colab.research.google.com/assets/colab-badge.svg\" alt=\"Open In Colab\"/></a>"
      ]
    },
    {
      "cell_type": "code",
      "execution_count": null,
      "metadata": {
        "id": "-MC1kIcqbQTE"
      },
      "outputs": [],
      "source": [
        "# --- Step 0: Install required packages ---\n",
        "!pip install requests beautifulsoup4 pandas ipywidgets\n",
        "\n",
        "import requests\n",
        "from bs4 import BeautifulSoup\n",
        "import pandas as pd\n",
        "from IPython.display import display\n",
        "import ipywidgets as widgets\n",
        "\n",
        "# --- Step 1: Scrape Explore Agadir Souss Massa ---\n",
        "def scrape_explore_agadir():\n",
        "    url = \"https://explore-agadirsoussmassa.com/en/\"\n",
        "    r = requests.get(url)\n",
        "    soup = BeautifulSoup(r.text, 'html.parser')\n",
        "    attractions = []\n",
        "\n",
        "    for link in soup.select('a[href*=\"/en/\"]'):\n",
        "        title = link.get_text(strip=True)\n",
        "        href = link.get('href')\n",
        "        if title and href and \"en/\" in href and len(title) > 3:\n",
        "            attractions.append({\n",
        "                \"source\": \"Explore Agadir Souss Massa\",\n",
        "                \"name\": title,\n",
        "                \"url\": href,\n",
        "                \"description\": \"\",\n",
        "                \"category\": \"\"\n",
        "            })\n",
        "    return attractions\n",
        "\n",
        "# --- Step 2: Scrape Visit Agadir ---\n",
        "def scrape_visit_agadir():\n",
        "    url = \"https://visitagadir.com/\"\n",
        "    r = requests.get(url)\n",
        "    soup = BeautifulSoup(r.text, 'html.parser')\n",
        "    attractions = []\n",
        "\n",
        "    for item in soup.select('a[href]'):\n",
        "        title = item.get_text(strip=True)\n",
        "        href = item.get('href')\n",
        "        if title and href and \"visitagadir.com\" not in href and len(title) > 3:\n",
        "            attractions.append({\n",
        "                \"source\": \"Visit Agadir\",\n",
        "                \"name\": title,\n",
        "                \"url\": href,\n",
        "                \"description\": \"\",\n",
        "                \"category\": \"\"\n",
        "            })\n",
        "    return attractions\n",
        "\n",
        "# --- Step 3: Merge & Remove Duplicates ---\n",
        "explore_data = scrape_explore_agadir()\n",
        "visit_data = scrape_visit_agadir()\n",
        "\n",
        "df = pd.DataFrame(explore_data + visit_data).drop_duplicates(subset=[\"name\"])\n",
        "display(df.head())\n",
        "\n",
        "# --- Step 4: Filtering UI ---\n",
        "def filter_data(keyword=\"\", category=\"\", min_name_len=0):\n",
        "    filtered = df.copy()\n",
        "    if keyword:\n",
        "        filtered = filtered[filtered['name'].str.contains(keyword, case=False, na=False)]\n",
        "    if category:\n",
        "        filtered = filtered[filtered['category'].str.contains(category, case=False, na=False)]\n",
        "    if min_name_len > 0:\n",
        "        filtered = filtered[filtered['name'].str.len() >= min_name_len]\n",
        "    display(filtered)\n",
        "\n",
        "keyword_box = widgets.Text(description=\"Keyword:\")\n",
        "category_box = widgets.Text(description=\"Category:\")\n",
        "min_len_box = widgets.IntSlider(description=\"Min name length\", min=0, max=50, value=0)\n",
        "\n",
        "widgets.interactive(filter_data, keyword=keyword_box, category=category_box, min_name_len=min_len_box)\n",
        "\n",
        "# --- Step 5: Save to CSV ---\n",
        "df.to_csv(\"agadir_attractions.csv\", index=False)\n",
        "print(\"Saved agadir_attractions.csv\")\n"
      ]
    }
  ]
}